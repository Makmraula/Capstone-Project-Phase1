








#Importing the necessary python libraries
import pandas as pd
import numpy as np
import matplotlib.pyplot as plt
import seaborn as sns


#Exploring the data
df_aviation = pd.read_csv('/content/AviationData.csv', encoding='latin-1', low_memory=False)
df_aviation.head()


print(df_aviation.info)
print(df_aviation.describe)


df_aviation.shape


df_aviation['Accident.Number']


#Checking for the number of missing values per column to check the usefulness of each column.
df_aviation.isna().sum()
missing_percentages = df_aviation.isnull().mean() * 100
print("Columns with high missing percentages:")
print(missing_percentages[missing_percentages > 20])



#Removing less relevant columns.
df_aviation.drop(['Event.Id','Investigation.Type','Accident.Number','Purpose.of.flight'], axis=1, inplace=True)


df_aviation.shape


#Removing duplicates from the data
df_aviation.drop_duplicates(inplace=True)
df_aviation.shape


print(df_aviation.info())



#Replacing the missing values in the columns with the mode for categorical values and median/mean for numerical values
#Identifying the Categorical columns and numeric columns
numeric_columns = df_aviation.select_dtypes(include=['float', 'int']).columns
categorical_columns = df_aviation.select_dtypes(include=['object', 'category']).columns
#Filling Numerical columns with the median
df_aviation[numeric_columns] = df_aviation[numeric_columns].apply(lambda col: col.fillna(col.median()), axis=0)
#Filling Categorical columns with mode
df_aviation[categorical_columns] = df_aviation[categorical_columns].apply(lambda col: col.fillna(col.mode()[0]), axis=0)

print(df_aviation)






df_aviation.isna().sum()


#Analyzing aircraft damage per make and model
print(df_aviation['Aircraft.damage'].value_counts())
print(df_aviation['Make'].value_counts())
print(df_aviation['Model'].value_counts())



damage_analysis = df_aviation.groupby(['Make', 'Model', 'Aircraft.damage']).size().reset_index(name='Count')
print(damage_analysis)



mode_make = damage_analysis['Make'].mode()[0]
mode_model = damage_analysis['Model'].mode()[0]
mode_aircraftd = damage_analysis['Aircraft.damage'].mode()[0]
print("Mode:", mode_make)
print("Mode:", mode_model)
print("Mode:", mode_aircraftd)



pivot_table = damage_analysis.pivot_table(
    index=['Make', 'Model'],
    columns='Aircraft.damage',
    values='Count',
    fill_value=0
)
print(pivot_table)




#
top_makes = damage_analysis['Make'].value_counts().head(10).index
filtered_df = damage_analysis[damage_analysis['Make'].isin(top_makes)]


plt.figure(figsize=(12, 8))
sns.countplot(
    data=filtered_df,
    x='Aircraft.damage',
    hue='Make',
    order=damage_analysis['Aircraft.damage'].value_counts().index
)
plt.title('Aircraft Damage Distribution by Make (Top 10 Makes)', fontsize=16)
plt.xticks(rotation=45)
plt.tight_layout()
plt.show()



# Calculate damage counts for the top makes
top_damage_counts = damage_analysis[damage_analysis['Make'].isin(top_makes)].groupby(['Make', 'Aircraft.damage']).size().unstack(fill_value=0)

# Plot horizontal bar chart
top_damage_counts.plot(
    kind='barh',
    stacked=True,
    figsize=(14, 10),
    colormap='viridis',
    width=0.8
)
plt.title('Aircraft Damage Distribution by Make (Horizontal)', fontsize=16)
plt.ylabel('Make')
plt.xlabel('Count')
plt.legend(title='Aircraft Damage', bbox_to_anchor=(1.05, 1), loc='upper left')
plt.tight_layout()
plt.show()



top_models = damage_analysis['Model'].value_counts().head(10).index
filtered_df = damage_analysis[damage_analysis['Model'].isin(top_models)]


plt.figure(figsize=(12, 8))
sns.countplot(
    data=filtered_df,
    x='Aircraft.damage',
    hue='Model',
    order=damage_analysis['Aircraft.damage'].value_counts().index
)
plt.title('Aircraft Damage Distribution by Model (Top 10 Models)', fontsize=16)
plt.xticks(rotation=45)
plt.tight_layout()
plt.show()


#Calculate damage counts for the top models
top_damage_counts = damage_analysis[damage_analysis['Model'].isin(top_models)].groupby(['Model', 'Aircraft.damage']).size().unstack(fill_value=0)
top_damage_counts.to_csv('top_damage_counts_data.csv', index=False)
# Plot horizontal bar chart
top_damage_counts.plot(
    kind='barh',
    stacked=True,
    figsize=(14, 10),
    colormap='viridis',
    width=0.8
)
plt.title('Aircraft Damage Distribution by Model (Horizontal)', fontsize=16)
plt.ylabel('Model')
plt.xlabel('Count')
plt.legend(title='Aircraft Damage', bbox_to_anchor=(1.05, 1), loc='upper left')
plt.tight_layout()
plt.show()





# Group by 'Make' and 'Model' and count occurrences
make_model_damages = damage_analysis.groupby(['Make', 'Model']).size()

# Sort the results in descending order to find the make-model pair with the most accidents
most_damages = make_model_damages.sort_values(ascending=False).head(1)

print("Make and Model with the Most Accidents:")
print(most_damages)






# Group by 'Make' and 'Model' and count occurrences
make_model_damages = damage_analysis.groupby(['Make', 'Model']).size()

# Sort the results in ascending order to find the make-model pairs with the least accidents
least_damages = make_model_damages[make_model_damages == make_model_damages.min()]

print("Make and Models with the Least Damages:")
print(least_damages)



# Group by 'Make' and 'Model' and count occurrences
make_model_damages = damage_analysis.groupby(['Make', 'Model']).size()

# Sort the results in descending order to get the top 5
top_5_damages = make_model_damages.sort_values(ascending=False).head(5)

print("Top 5 Makes and Models with the Most Damages:")
print(top_5_damages)



top_5_damages.plot(kind='bar', figsize=(10, 6), color='red')
plt.title('Top 5 Makes and Models with the Most Damages')
plt.ylabel('Number of Damages')
plt.xlabel('Make and Model')
plt.xticks(rotation=45, ha='right')
plt.show()



# Group by 'Make' and 'Model' and count occurrences
make_model_damages = damage_analysis.groupby(['Make', 'Model']).size()

# Sort the results in ascending order to get the least 10
least_10_damages = make_model_damages.sort_values(ascending=True).head(10)

print("Top 10 Makes and Models with the Least Accidents:")
print(least_10_damages)



least_10_damages.plot(kind='bar', figsize=(10, 6), color='skyblue')
plt.title('Top 5 Makes and Models with the Least Damages')
plt.ylabel('Number of Damages')
plt.xlabel('Make and Model')
plt.xticks(rotation=45, ha='right')
plt.show()


#Comparing the make and model vs the total number of injuries
# Combine all injury columns into a single 'Total Injuries' column
df_aviation['Total.Injuries'] = (
    df_aviation['Total.Fatal.Injuries'].fillna(0)
    + df_aviation['Total.Serious.Injuries'].fillna(0)
    + df_aviation['Total.Minor.Injuries'].fillna(0)
)

# Group by 'Make' and 'Model' and sum the total injuries
make_model_injuries = df_aviation.groupby(['Make', 'Model'])['Total.Injuries'].sum()
# Sort the results to find pairs with the highest injuries
make_model_injuries_sorted = make_model_injuries.sort_values(ascending=False)
make_model_injuries_sorted.to_csv('make_injuries_data.csv', index=False)
# Display the top 10 results
top_10_injuries = make_model_injuries_sorted.head(10)
print("Top 10 Make and Model Pairs by Number of Injuries:")
print(top_10_injuries)

# Plot the top 10 make-model pairs by number of injuries
plt.figure(figsize=(12, 6))
top_10_injuries.plot(kind='bar', color='coral')
plt.title('Top 10 Make and Model Pairs by Number of Injuries')
plt.ylabel('Total Number of Injuries')
plt.xlabel('Make and Model')
plt.xticks(rotation=45, ha='right')
plt.show()



# Top 10 Make and Model pairs
top_10_injuries = make_model_injuries_sorted.head(10)
print("Top 10 Make and Model Pairs by Number of Injuries:")
print(top_10_injuries)

plt.figure(figsize=(12, 6))
top_10_injuries.plot(kind='bar', color='coral')
plt.title('Top 10 Make and Model Pairs by Number of Injuries')
plt.ylabel('Total Number of Injuries')
plt.xlabel('Make and Model')
plt.xticks(rotation=45, ha='right')
plt.show()

# Bottom 10 Make and Model pairs
bottom_10_injuries = make_model_injuries_sorted.tail(10)
print("Bottom 10 Make and Model Pairs by Number of Injuries:")
print(bottom_10_injuries)

plt.figure(figsize=(12, 6))
bottom_10_injuries.plot(kind='bar', color='lightblue')
plt.title('Bottom 10 Make and Model Pairs by Number of Injuries')
plt.ylabel('Total Number of Injuries')
plt.xlabel('Make and Model')
plt.xticks(rotation=45, ha='right')
plt.show()



# 1. Group by Make and Model, and analyze the number of engines
engine_analysis = df_aviation.groupby(['Make', 'Model'])['Number.of.Engines'].agg([
    'count',  # Number of incidents
    'mean',   # Average number of engines
    'min',    # Minimum number of engines
    'max'     # Maximum number of engines
]).reset_index()

# Sort by number of incidents in descending order
engine_analysis_sorted = engine_analysis.sort_values('count', ascending=False)
print("\nEngine Analysis by Make and Model:")
print(engine_analysis_sorted.head(10))
engine_analysis_sorted.to_csv('make_engine_data.csv', index=False)



# 2. Distribution of number of engines across Makes
make_engine_dist = df_aviation.groupby('Make')['Number.of.Engines'].agg([
    'count',
    'mean',
    'min',
    'max'
]).sort_values('count', ascending=False)
print("\nEngine Distribution by Make:")
print(make_engine_dist.head(10))



# For very large number of makes, focus on top makes
top_makes = df_aviation['Make'].value_counts().nlargest(15).index

plt.figure(figsize=(16, 8))
sns.boxplot(
    x='Make',
    y='Number.of.Engines',
    data=df_aviation[df_aviation['Make'].isin(top_makes)],
    palette='viridis'
)

plt.title('Distribution of Number of Engines for Top 15 Aircraft Makes', fontsize=16)
plt.xlabel('Make', fontsize=12)
plt.ylabel('Number of Engines', fontsize=12)
plt.xticks(rotation=45, ha='right')
plt.grid(axis='y', linestyle='--', alpha=0.7)
plt.tight_layout()
plt.show()


# 4. Create a pivot table for a detailed view
engine_pivot = df_aviation.pivot_table(
    values='Number.of.Engines',
    index='Make',
    columns='Model',
    aggfunc=['count', 'mean']
)
print("\nPivot Table of Engines by Make and Model:")
print(engine_pivot.head())


# 5. Correlation between number of engines and other numerical columns
numerical_columns = df_aviation.select_dtypes(include=['int64', 'float64']).columns
correlation = df_aviation[['Number.of.Engines'] + list(numerical_columns)].corr()['Number.of.Engines']
print("\nCorrelation of Number of Engines with Other Numerical Columns:")
print(correlation)



import folium
import plotly.express as px
import plotly.graph_objs as go
#Create severity score (based on fatal injuries and damage)
def calculate_severity_score(row):
    fatal_score = row['Total.Fatal.Injuries'] * 3
    damage_score = 2 if row['Aircraft.damage'] == 'Destroyed' else 1
    return fatal_score + damage_score

df_aviation['Severity_Score'] = df_aviation.apply(calculate_severity_score, axis=1)



def create_severity_map(df_aviation):
    """
    Creates an intuitive, interactive world map showing aviation accident severity.
    The map displays accident locations, with marker size representing severity
    and color indicating aircraft damage.

    Parameters:
        df_aviation (DataFrame): Aviation dataset containing location, damage,
                                 and severity information.

    Returns:
        plotly.graph_objects.Figure: Geospatial visualization.
    """
    # Ensure required columns are present and drop missing coordinates
    required_columns = ['Latitude', 'Longitude', 'Aircraft.damage', 'Severity_Score', 'Location']
    if not all(col in df_aviation.columns for col in required_columns):
        raise ValueError(f"Dataset must contain the following columns: {required_columns}")

    df_cleaned = df_aviation.dropna(subset=['Latitude', 'Longitude'])
    df_cleaned.to_csv('severity_data.csv', index=False)
    # Create the map
    fig = px.scatter_geo(
        df_cleaned,
        lat='Latitude',
        lon='Longitude',
        color='Aircraft.damage',
        size='Severity_Score',
        hover_name='Location',
        hover_data={
            'Total.Fatal.Injuries': True,
            'Aircraft.Category': True,
            'Severity_Score': ':.2f',
        },
        color_discrete_map={
            'Destroyed': 'red',
            'Substantial': 'orange',
            'Minor': 'yellow'  # Optional if minor damage exists
        },
        projection='natural earth',
        title='Aviation Accidents: Severity and Damage Worldwide'
    )

    # Customize layout for clarity
    fig.update_layout(
        geo=dict(
            showland=True,
            landcolor='rgb(240, 240, 240)',  # Softer land color
            countrycolor='rgb(204, 204, 204)',  # Neutral country borders
            coastlinecolor='rgb(158, 158, 158)',  # Visible coastlines
        ),
        legend_title=dict(text="Aircraft Damage"),
        margin=dict(l=0, r=0, t=50, b=0),  # Tighter margins
        height=700  # Increased map height for better visibility
    )

    # Add meaningful annotations
    fig.update_traces(
        marker=dict(opacity=0.8, line=dict(width=0.5, color='darkgray')),
        selector=dict(mode='markers')
    )

    return fig


# Generate and show the enhanced severity map
try:
    severity_map = create_severity_map(df_aviation)
    severity_map.show()
except ValueError as e:
    print(f"Error creating severity map: {e}")



def create_damage_pie_chart(df_aviation):
    """
    Creates a pie chart showing the distribution of aircraft damage.
    """
    damage_distribution = df_aviation['Aircraft.damage'].value_counts()
    fig = px.pie(
        values=damage_distribution.values,
        names=damage_distribution.index,
        title='Aircraft Damage Distribution'
    )
    return fig


# Generate and show the pie chart
damage_pie = create_damage_pie_chart(df_aviation)
damage_pie.show()



def create_category_bar_chart(df_aviation):
    """
    Creates a bar chart showing total severity by aircraft category.
    """
    category_severity = df_aviation.groupby('Aircraft.Category')['Severity_Score'].sum().reset_index()
    fig = px.bar(
        category_severity,
        x='Aircraft.Category',
        y='Severity_Score',
        title='Total Severity by Aircraft Category'
    )
    return fig


# Generate and show the bar chart
category_plot = create_category_bar_chart(df_aviation)
category_plot.show()



def print_summary_statistics(df_aviation):
    """
    Prints summary statistics for fatal injuries and severity score.
    """
    summary = df_aviation.groupby('Aircraft.Category').agg({
        'Total.Fatal.Injuries': ['sum', 'mean'],
        'Severity_Score': ['sum', 'mean']
    })
    print("Severity Analysis Summary:")
    print(summary)


# Display summary statistics
print_summary_statistics(df_aviation)



# Group data by Make, Model, and Engine Type, and count occurrences of Aircraft Damage
make_model_engine_damage = (
    df_aviation.groupby(['Make', 'Model', 'Engine.Type'])['Aircraft.damage']
    .count()
    .reset_index()
    .rename(columns={'Aircraft.damage': 'Number_of_Damages'})
)


make_model_engine_damage_sorted = make_model_engine_damage.sort_values(
    by='Number_of_Damages', ascending=False
)

# Display the top 10 Make-Model-Engine Type combinations with the most damages
top_10_damages = make_model_engine_damage_sorted.head(10)
print("Top 10 Make-Model-Engine Type combinations with the most damages:")
print(top_10_damages)


# Get the bottom 10 Make-Model-Engine Type combinations with the least damages
bottom_10_damages = make_model_engine_damage_sorted.tail(10)
print("Bottom 10 Make-Model-Engine Type combinations with the least damages:")
print(bottom_10_damages)

# Visualize the bottom 10 using a bar plot
plt.figure(figsize=(12, 6))
sns.barplot(
    data=bottom_10_damages,
    x='Number_of_Damages',
    y=bottom_10_damages['Make'] + " " + bottom_10_damages['Model'] + " (" + bottom_10_damages['Engine.Type'] + ")",
    palette='viridis'
)
plt.title('Bottom 10 Make-Model-Engine Type Combinations with Least Damages')
plt.xlabel('Number of Damages')
plt.ylabel('Make-Model (Engine Type)')
plt.show()



#saving the comparison data frames as csv to allow for easier visualization by tableau
df_cleaned.to_csv('severity_data.csv', index=False)



